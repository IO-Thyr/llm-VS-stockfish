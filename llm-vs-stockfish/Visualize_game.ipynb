{
 "cells": [
  {
   "cell_type": "code",
   "execution_count": 2,
   "metadata": {},
   "outputs": [],
   "source": [
    "from chess_game_manager import ChessGameManager\n",
    "from llm_player import LLMPlayer\n",
    "from stockfish_player import StockfishPlayer"
   ]
  },
  {
   "cell_type": "code",
   "execution_count": null,
   "metadata": {},
   "outputs": [],
   "source": [
    "import pandas as pd\n",
    "\n",
    "def record_game():\n",
    "    df = pd.DataFrame({\"FEN_game_historic\":[game_manager.record_fen],\n",
    "                            \"LLM_color\":[game_manager.llm_player.color],\n",
    "                            \"LLM_model_name\":[game_manager.llm_player.model_name],\n",
    "                            \"Win\":[game_manager.color_winner],\n",
    "                            \"Stockfish_elo\":[game_manager.stockfish_player.elo],\n",
    "                            \"Prompt_schema\":[game_manager.llm_player.prompt_schema],\n",
    "                            \"LLM_temp\":[game_manager.llm_player.temp],\n",
    "                            \"Parser_schema\":[game_manager.llm_player.parser.get_format_instructions()]\n",
    "                            })\n",
    "    \n",
    "    df_concat = pd.concat([pd.read_csv(\"ChessGameExperiment.csv\"), df], axis=0, ignore_index=True)\n",
    "\n",
    "    return df_concat\n",
    "\n"
   ]
  },
  {
   "cell_type": "code",
   "execution_count": null,
   "metadata": {},
   "outputs": [],
   "source": [
    "for _ in range(1):\n",
    "    llm_player = LLMPlayer()\n",
    "\n",
    "    llm_player.init_llm_model(\"llama3.1:8b\", temperature=0.1)\n",
    "    \n",
    "    stockfish_player = StockfishPlayer(\"./llm-vs-stockfish/stockfish/stockfish-macos-m1-apple-silicon\")\n",
    "    stockfish_player.init_stockfish(set_elo_rating=400, set_depth=15)\n",
    "\n",
    "    game_manager = ChessGameManager(llm_player, stockfish_player)\n",
    "\n",
    "    game_manager.play_game(num_moves =50)\n",
    "\n",
    "    df = pd.DataFrame({\"FEN_game_historic\":[game_manager.record_fen],\n",
    "                            \"LLM_color\":[game_manager.llm_player.color],\n",
    "                            \"LLM_model_name\":[game_manager.llm_player.model_name],\n",
    "                            \"Win\":[game_manager.color_winner],\n",
    "                            \"Stockfish_elo\":[game_manager.stockfish_player.elo],\n",
    "                            \"Prompt_schema\":[game_manager.llm_player.prompt_schema],\n",
    "                            \"LLM_temp\":[game_manager.llm_player.temp],\n",
    "                            \"Parser_schema\":[game_manager.llm_player.parser.get_format_instructions()]\n",
    "                            }).to_csv('ChessGameExperimentLlama.csv', index=False)\n",
    "\n",
    "    record_game().to_csv('ChessGameExperiment.csv', index=False)\n"
   ]
  },
  {
   "cell_type": "code",
   "execution_count": 1,
   "metadata": {},
   "outputs": [],
   "source": [
    "import pandas as pd\n",
    "df = pd.read_csv(\"ChessGameExperiment.csv\")"
   ]
  },
  {
   "cell_type": "code",
   "execution_count": null,
   "metadata": {},
   "outputs": [],
   "source": [
    "df.head()"
   ]
  },
  {
   "cell_type": "code",
   "execution_count": 3,
   "metadata": {},
   "outputs": [],
   "source": [
    "import ast\n",
    "listfen = ast.literal_eval(df[\"FEN_game_historic\"][1])"
   ]
  },
  {
   "cell_type": "code",
   "execution_count": 4,
   "metadata": {},
   "outputs": [],
   "source": [
    "import chess\n",
    "b = chess.Board()"
   ]
  },
  {
   "cell_type": "code",
   "execution_count": null,
   "metadata": {},
   "outputs": [],
   "source": [
    "df[\"FEN_game_historic\"][-5:]"
   ]
  },
  {
   "cell_type": "code",
   "execution_count": null,
   "metadata": {},
   "outputs": [],
   "source": [
    "import time\n",
    "from IPython.display import display, clear_output\n",
    "\n",
    "def get_board_visualization_jupyter(b):\n",
    "        board_svg = chess.svg.board(b, size=350)\n",
    "        clear_output(wait=True)\n",
    "        display(board_svg)\n",
    "\n",
    "for i in df[\"FEN_game_historic\"][-5:]:\n",
    "        for j in ast.literal_eval(i):\n",
    "                b = chess.Board(j)\n",
    "                get_board_visualization_jupyter(b)\n",
    "                time.sleep(0.1)"
   ]
  },
  {
   "cell_type": "code",
   "execution_count": null,
   "metadata": {},
   "outputs": [],
   "source": [
    "game_manager.show_replay(listfen)"
   ]
  },
  {
   "cell_type": "code",
   "execution_count": null,
   "metadata": {},
   "outputs": [],
   "source": [
    "import pandas as pd\n",
    "df2 = pd.DataFrame({\"FEN_game_historic\":[[\"1\"]],\n",
    " \"LLM_color\":[\"1\"],\n",
    " \"LLM_model_name\":[\"1\"],\n",
    " \"Win\":[\"1\"],\n",
    " \"Stockfish_elo\":[0],\n",
    " \"Prompt_schema\":[\"1\"],\n",
    " \"LLM_temp\":[0],\n",
    " \"Parser_schema\":[[{\"test\":\"test\"}]]\n",
    "    })"
   ]
  },
  {
   "cell_type": "code",
   "execution_count": null,
   "metadata": {},
   "outputs": [],
   "source": [
    "df2.to_csv(\"ChessGameExperiment.csv\")"
   ]
  },
  {
   "cell_type": "code",
   "execution_count": null,
   "metadata": {},
   "outputs": [],
   "source": [
    "import chess\n",
    "\n",
    "board = chess.Board()"
   ]
  },
  {
   "cell_type": "code",
   "execution_count": null,
   "metadata": {},
   "outputs": [],
   "source": [
    "import os \n",
    "from langchain_mistralai import ChatMistralAI\n",
    "\n",
    "os.environ[\"MISTRAL_API_KEY\"]=\"9m0UbfklcS177Zu642F5WVFONA0XeRN3\"\n",
    "llm = ChatMistralAI(model=\"mistral-large-latest\", temperature=0,)"
   ]
  },
  {
   "cell_type": "code",
   "execution_count": null,
   "metadata": {},
   "outputs": [],
   "source": [
    "from langchain_core.prompts import PromptTemplate\n",
    "\n",
    "prompt = PromptTemplate.from_template(\"How to say {input} in {output_language}:\\n\")\n",
    "\n",
    "chain = prompt | llm\n",
    "chain.invoke(\n",
    "    {\n",
    "        \"output_language\": \"German\",\n",
    "        \"input\": \"I love programming.\",\n",
    "    }\n",
    ")"
   ]
  }
 ],
 "metadata": {
  "kernelspec": {
   "display_name": "llmvsstockfish-L3_P6Ml0-py3.12",
   "language": "python",
   "name": "python3"
  },
  "language_info": {
   "codemirror_mode": {
    "name": "ipython",
    "version": 3
   },
   "file_extension": ".py",
   "mimetype": "text/x-python",
   "name": "python",
   "nbconvert_exporter": "python",
   "pygments_lexer": "ipython3",
   "version": "3.12.5"
  }
 },
 "nbformat": 4,
 "nbformat_minor": 2
}
